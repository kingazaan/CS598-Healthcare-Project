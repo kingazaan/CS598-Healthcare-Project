{
 "cells": [
  {
   "cell_type": "code",
   "execution_count": 8,
   "id": "1b0471ec",
   "metadata": {},
   "outputs": [
    {
     "data": {
      "text/plain": [
       "<numpy.lib.npyio.NpzFile at 0x1c6f36600a0>"
      ]
     },
     "execution_count": 8,
     "metadata": {},
     "output_type": "execute_result"
    }
   ],
   "source": [
    "# niew npz\n",
    "import os\n",
    "import numpy as np\n",
    "\n",
    "data = np.load('trained_models/attention_concat_time/epoch_times.npz')\n",
    "data"
   ]
  },
  {
   "cell_type": "code",
   "execution_count": 9,
   "id": "849ed6ab",
   "metadata": {},
   "outputs": [
    {
     "name": "stderr",
     "output_type": "stream",
     "text": [
      "Parsing PATIENTS and ADMISSIONS: 100%|██████████| 49993/49993 [01:56<00:00, 427.41it/s]\n",
      "Parsing DIAGNOSES_ICD: 100%|██████████| 52354/52354 [00:11<00:00, 4657.02it/s]\n",
      "Parsing PROCEDURES_ICD: 100%|██████████| 45769/45769 [00:07<00:00, 5772.36it/s] \n",
      "Parsing PRESCRIPTIONS: 100%|██████████| 50710/50710 [03:05<00:00, 272.76it/s]\n",
      "Mapping codes: 100%|██████████| 49993/49993 [01:42<00:00, 486.53it/s]\n"
     ]
    },
    {
     "data": {
      "text/plain": [
       "<pyhealth.datasets.mimic3.MIMIC3Dataset at 0x1c6ffd81150>"
      ]
     },
     "execution_count": 9,
     "metadata": {},
     "output_type": "execute_result"
    }
   ],
   "source": [
    "from pyhealth.datasets import MIMIC3Dataset\n",
    "\n",
    "mimic3_ds = MIMIC3Dataset(\n",
    "        root=\"https://storage.googleapis.com/pyhealth/Synthetic_MIMIC-III/\",\n",
    "        tables=[\"DIAGNOSES_ICD\", \"PROCEDURES_ICD\", \"PRESCRIPTIONS\"],\n",
    "        code_mapping={\"NDC\": (\"ATC\", {\"target_kwargs\": {\"level\": 3}})},\n",
    ")\n",
    "\n",
    "# we show the statistics below.\n",
    "mimic3_ds"
   ]
  },
  {
   "cell_type": "code",
   "execution_count": 14,
   "id": "e4cda860",
   "metadata": {},
   "outputs": [
    {
     "name": "stdout",
     "output_type": "stream",
     "text": [
      "Loading data...\n"
     ]
    },
    {
     "name": "stderr",
     "output_type": "stream",
     "text": [
      "Traceback (most recent call last):\n",
      "  File \"C:\\Users\\azaan\\OneDrive\\Documents\\GitHub\\time_aware_attention\\related_code\\test_train_logreg.py\", line 27, in <module>\n",
      "    icu_pat = pd.read_pickle(hp.data_dir + 'icu_pat_admit.pkl')\n",
      "  File \"C:\\Users\\azaan\\AppData\\Local\\Programs\\Python\\Python310\\lib\\site-packages\\pandas\\io\\pickle.py\", line 190, in read_pickle\n",
      "    with get_handle(\n",
      "  File \"C:\\Users\\azaan\\AppData\\Local\\Programs\\Python\\Python310\\lib\\site-packages\\pandas\\io\\common.py\", line 865, in get_handle\n",
      "    handle = open(handle, ioargs.mode)\n",
      "FileNotFoundError: [Errno 2] No such file or directory: '../data/icu_pat_admit.pkl'\n"
     ]
    }
   ],
   "source": [
    "!python related_code/test_train_logreg.py"
   ]
  },
  {
   "cell_type": "code",
   "execution_count": null,
   "id": "8290da4d",
   "metadata": {},
   "outputs": [],
   "source": []
  }
 ],
 "metadata": {
  "kernelspec": {
   "display_name": "Python 3 (ipykernel)",
   "language": "python",
   "name": "python3"
  },
  "language_info": {
   "codemirror_mode": {
    "name": "ipython",
    "version": 3
   },
   "file_extension": ".py",
   "mimetype": "text/x-python",
   "name": "python",
   "nbconvert_exporter": "python",
   "pygments_lexer": "ipython3",
   "version": "3.10.7"
  }
 },
 "nbformat": 4,
 "nbformat_minor": 5
}
